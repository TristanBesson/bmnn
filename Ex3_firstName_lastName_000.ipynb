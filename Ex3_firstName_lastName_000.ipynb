{
 "cells": [
  {
   "cell_type": "markdown",
   "metadata": {},
   "source": [
    "# Solution Exponential Integrate and Fire Neuron"
   ]
  },
  {
   "cell_type": "markdown",
   "metadata": {},
   "source": [
    "first name: ...\n",
    "\n",
    "last name: ...\n",
    "\n",
    "sciper: ...\n",
    "\n",
    "date: ...\n",
    "\n",
    "*Your teammate*\n",
    "\n",
    "first name of your teammate: ...\n",
    "\n",
    "last name of your teammate: ...\n",
    "\n",
    "sciper of your teammate: ...\n",
    "\n",
    "\n",
    "Note: You are allowed to discuss the concepts with your class mates. You are not allowed to share code. You have to understand every line of code you write in this notebook. We will ask you questions about your submission during a fraud detection session during the last week of the semester.\n",
    "\n",
    "\n",
    "** Submission **\n",
    "\n",
    "Rename this notebook to Ex3_FirstName_LastName_Sciper.ipynb and upload that single file on moodle before the deadline.\n",
    "\n",
    "** Link to the exercise **\n",
    "\n",
    "<http://neuronaldynamics-exercises.readthedocs.io/en/latest/exercises/exponential-integrate-and-fire.html>"
   ]
  },
  {
   "cell_type": "markdown",
   "metadata": {},
   "source": [
    "## Exercise 3, getting started"
   ]
  },
  {
   "cell_type": "code",
   "execution_count": null,
   "metadata": {
    "collapsed": false
   },
   "outputs": [],
   "source": [
    "% matplotlib inline\n",
    "import brian2 as b2\n",
    "import matplotlib.pyplot as plt\n",
    "import neurodynex.exponential_integrate_fire.exp_IF as exp_IF\n",
    "from neurodynex.tools import plot_tools, input_factory\n",
    "\n",
    "\n",
    "input_current = input_factory.get_step_current(\n",
    "    t_start=20, t_end=120, unit_time=b2.ms, amplitude=0.8 * b2.namp)\n",
    "\n",
    "state_monitor, spike_monitor = exp_IF.simulate_exponential_IF_neuron(\n",
    "    I_stim=input_current, simulation_time=200*b2.ms)\n",
    "\n",
    "plot_tools.plot_voltage_and_current_traces(\n",
    "    state_monitor, input_current,title=\"step current\", \n",
    "    firing_threshold=exp_IF.FIRING_THRESHOLD_v_spike)\n",
    "print(\"nr of spikes: {}\".format(spike_monitor.count[0]))"
   ]
  },
  {
   "cell_type": "markdown",
   "metadata": {},
   "source": [
    "## 3.1 Rehobase Threshold"
   ]
  },
  {
   "cell_type": "code",
   "execution_count": null,
   "metadata": {
    "collapsed": false
   },
   "outputs": [],
   "source": [
    "import brian2 as b2\n",
    "import neurodynex.exponential_integrate_fire.exp_IF as exp_IF\n",
    "\n",
    "I_rh = 0.  # insert your expression here. Do not just enter a value but compute it using variables like exp_IF.FIRING_THRESHOLD_v_spike \n",
    "print(I_rh)"
   ]
  },
  {
   "cell_type": "code",
   "execution_count": null,
   "metadata": {
    "collapsed": false
   },
   "outputs": [],
   "source": [
    "% matplotlib inline\n",
    "import brian2 as b2\n",
    "import neurodynex.exponential_integrate_fire.exp_IF as exp_IF\n",
    "from neurodynex.tools import plot_tools, input_factory\n",
    "\n",
    "# code here: \n",
    "# inject a current for 200ms. Set the maximal amplitude such that the neuron does NOT spike.\n",
    "# plot the current and the voltage."
   ]
  },
  {
   "cell_type": "markdown",
   "metadata": {},
   "source": [
    "## 3.2 Strength - Duration Curve"
   ]
  },
  {
   "cell_type": "code",
   "execution_count": null,
   "metadata": {
    "collapsed": false
   },
   "outputs": [],
   "source": [
    "# follow the instructions, insert your code here."
   ]
  },
  {
   "cell_type": "markdown",
   "metadata": {},
   "source": [
    "### 3.2 Discussion of the strength-duration curve\n",
    "Describe your observations here\n"
   ]
  },
  {
   "cell_type": "markdown",
   "metadata": {
    "collapsed": true
   },
   "source": [
    "## 3.3 Quadratic Integrate and Fire neuron\n",
    "This exercise is not available online. All information is given here.\n",
    "\n",
    "3.3.1 Read the book chapter about the quadratic integrate and fire neuron\n",
    "http://neuronaldynamics.epfl.ch/online/Ch5.S3.html\n",
    "\n",
    "3.3.2 Implement the quadratic integrate and fire neuron in Brian2:\n",
    "\n",
    "* Follow the [source]-link in the documentation to get the Python source code of the exponential integrate and fire neuron. http://neuronaldynamics-exercises.readthedocs.io/en/latest/modules/neurodynex.exponential_integrate_fire.html\n",
    "* Find the one function that implements the exponential LIF. Copy that function into this notebook. Rename the function, change it's parameters and modify the dynamics from the exponential to the quadratic equation (Equation 5.16 in the book).\n",
    "\n",
    "3.3.3 Call your function: \n",
    "As above, inject a current into your neuron and plot the response.\n",
    "\n",
    "3.3.4 Approximate the exponential model\n",
    "* The quadratic model has three parameters: a0, v_rest and vc (note that this v_rest is different from the v_rest of the exponential model). They can be chosen such that the quadratic model approximates the exponential model. Read the box \"Example: Approximating the exponential integrate-and-fire\" in chapter http://neuronaldynamics.epfl.ch/online/Ch5.S3.html and make sure you understand figure 5.8.\n",
    "* On paper, find the equations that express the parameters a0, v_rest and vc (in terms of the parameters of the exponential model) such that the two models are matched (in value, slope and curvature) at the rheobase threshold.\n",
    "* In code, compute the values of a0, v_rest and vc using the values provided in the exp_IF module.\n",
    "\n",
    "3.3.5 Simulate the quadratic- and the exponential model\n",
    "* Inject the same current into an exponential- and into your (matched) quadratic model. Set the current duration to 1 second and the amplitude to I_Rh + 0.030 * b2.namp  (I_Rh as computed in exercise 3.1). Simulate for 1 second and plot the voltage responses.\n",
    "\n",
    "3.3.6 Discuss your observation\n"
   ]
  },
  {
   "cell_type": "code",
   "execution_count": 2,
   "metadata": {
    "collapsed": false
   },
   "outputs": [],
   "source": [
    "import neurodynex.exponential_integrate_fire.exp_IF as exp_IF\n",
    "from neurodynex.tools import plot_tools, input_factory\n",
    "import brian2 as b2\n",
    "\n",
    "# copy the simulation function here and modify it\n"
   ]
  },
  {
   "cell_type": "code",
   "execution_count": null,
   "metadata": {
    "collapsed": false
   },
   "outputs": [],
   "source": [
    "# 3.3.4 Approximate the exponential model (solve it on paper, use the final expressions here)\n",
    "\n",
    "A_0 = 1./ exp_IF.RHEOBASE_THRESHOLD_v_rh  # replace this expression with the correct formula.\n",
    "print(A_0)\n",
    "V_rest = 123 * b2.mV # replace this expression with the correct formula.\n",
    "print(V_rest)\n",
    "V_C = exp_IF.V_REST + 0.*b2.mV  # replace this expression with the correct formula.\n",
    "print(V_C)"
   ]
  },
  {
   "cell_type": "code",
   "execution_count": null,
   "metadata": {
    "collapsed": true
   },
   "outputs": [],
   "source": [
    "# 3.3.5 Simulate the quadratic- and the exponential model\n",
    "\n",
    "# your code goes here. Use the parameters A_0 V_rest and V_C computed in 3.3.4"
   ]
  },
  {
   "cell_type": "markdown",
   "metadata": {},
   "source": [
    "## 3.3.6 Discuss your observation\n",
    "\n",
    "Explain your observations here. Qualitatively compare the voltage traces of the exponential- and the quadratic model. Is the number of spikes the same for the two models?"
   ]
  },
  {
   "cell_type": "code",
   "execution_count": null,
   "metadata": {
    "collapsed": true
   },
   "outputs": [],
   "source": []
  }
 ],
 "metadata": {
  "kernelspec": {
   "display_name": "Python [conda env:bmnn]",
   "language": "python",
   "name": "conda-env-bmnn-py"
  },
  "language_info": {
   "codemirror_mode": {
    "name": "ipython",
    "version": 2
   },
   "file_extension": ".py",
   "mimetype": "text/x-python",
   "name": "python",
   "nbconvert_exporter": "python",
   "pygments_lexer": "ipython2",
   "version": "2.7.13"
  }
 },
 "nbformat": 4,
 "nbformat_minor": 1
}
