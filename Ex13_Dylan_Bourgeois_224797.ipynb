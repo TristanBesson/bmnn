{
 "cells": [
  {
   "cell_type": "markdown",
   "metadata": {},
   "source": [
    "# Solution Graded Exercise 3: Perceptual Decision Making"
   ]
  },
  {
   "cell_type": "markdown",
   "metadata": {},
   "source": [
    "first name: ...\n",
    "\n",
    "last name: ...\n",
    "\n",
    "sciper: ...\n",
    "\n",
    "date: ...\n",
    "\n",
    "*Your teammate*\n",
    "\n",
    "first name of your teammate: ...\n",
    "\n",
    "last name of your teammate: ...\n",
    "\n",
    "sciper of your teammate: ...\n",
    "\n",
    "\n",
    "Note: You are allowed to discuss the concepts with your class mates. You are not allowed to share code. You have to understand every line of code you write in this notebook. We will ask you questions about your submission during a fraud detection session during the last week of the semester.\n",
    "\n",
    "\n",
    "** Submission **\n",
    "\n",
    "Rename this notebook to Ex13_FirstName_LastName_Sciper.ipynb and upload that single file on moodle before the deadline.\n",
    "\n",
    "** Link to the exercise **\n",
    "\n",
    "http://neuronaldynamics-exercises.readthedocs.io/en/latest/exercises/perceptual-decision-making.html\n",
    "\n",
    "** Notes **\n",
    "- before solving this exercise, you have to update the neurodynex package:\n",
    "\n",
    "    - If you are using anaconda/miniconda, you can use the following commands:\n",
    "\n",
    "        > source activate bmnn\n",
    "        > conda update -c brian-team -c epfl-lcn neurodynex\n",
    "\n",
    "    - If you've used pip, use:\n",
    "\n",
    "        > pip install --upgrade neurodynex\n",
    "\n",
    "- The exercise \"13.2.1. Question: Coherence Level\" is optional and will NOT be graded. However you are encouraged to do it anyway.\n"
   ]
  },
  {
   "cell_type": "markdown",
   "metadata": {},
   "source": [
    "## 13.1.1. Question: Understanding Brian2 Monitors"
   ]
  },
  {
   "cell_type": "code",
   "execution_count": null,
   "metadata": {
    "collapsed": true
   },
   "outputs": [],
   "source": []
  },
  {
   "cell_type": "markdown",
   "metadata": {},
   "source": [
    "## 13.1.2. Question: Accessing a dictionary to plot the population rates"
   ]
  },
  {
   "cell_type": "code",
   "execution_count": null,
   "metadata": {
    "collapsed": true
   },
   "outputs": [],
   "source": []
  },
  {
   "cell_type": "markdown",
   "metadata": {},
   "source": [
    "## 13.2.1. Question: Coherence Level (optional, not graded)"
   ]
  },
  {
   "cell_type": "code",
   "execution_count": null,
   "metadata": {
    "collapsed": true
   },
   "outputs": [],
   "source": []
  },
  {
   "cell_type": "markdown",
   "metadata": {},
   "source": [
    "## 13.2.2. Question: Input stimuli with different coherence levels"
   ]
  },
  {
   "cell_type": "code",
   "execution_count": null,
   "metadata": {
    "collapsed": true
   },
   "outputs": [],
   "source": []
  },
  {
   "cell_type": "markdown",
   "metadata": {},
   "source": [
    "## 13.3.1. Question: Plotting the Decision Space"
   ]
  },
  {
   "cell_type": "code",
   "execution_count": null,
   "metadata": {
    "collapsed": true
   },
   "outputs": [],
   "source": []
  },
  {
   "cell_type": "markdown",
   "metadata": {},
   "source": [
    "## 13.3.2. Question: Implementing a decision criterion"
   ]
  },
  {
   "cell_type": "code",
   "execution_count": null,
   "metadata": {
    "collapsed": true
   },
   "outputs": [],
   "source": []
  },
  {
   "cell_type": "markdown",
   "metadata": {},
   "source": [
    "## 13.4.1. Question: Running multiple simulations"
   ]
  },
  {
   "cell_type": "code",
   "execution_count": null,
   "metadata": {
    "collapsed": true
   },
   "outputs": [],
   "source": []
  },
  {
   "cell_type": "markdown",
   "metadata": {},
   "source": [
    "## 13.4.2. Question: Percent-Correct, Time-to-decision"
   ]
  },
  {
   "cell_type": "code",
   "execution_count": null,
   "metadata": {
    "collapsed": true
   },
   "outputs": [],
   "source": []
  },
  {
   "cell_type": "markdown",
   "metadata": {},
   "source": [
    "# 13.5 The Drift-Diffusion Model"
   ]
  },
  {
   "cell_type": "markdown",
   "metadata": {},
   "source": [
    "This exercise is not available online. All information is given here.\n",
    "\n",
    "So far you have studied a decision making process emerging from the competitive interaction between neuronal populations. In this exercise, we will explore a different approach for modelling decision making, the drift-diffusion model. This model is introduced in paragraph 16.4.2 of the book. It is a phenomenological model which is used to describe the decision making process between two mutually exclusive options (see the experiment on motion perception, described in chapter 16.1).\n",
    "\n",
    "At every trial the decision variable $x$ is initialized at time $t_0$ at a value $x(t_0)=x_0$. Then, it evolves according to:\n",
    "\\begin{eqnarray}\n",
    "\\frac{dx}{dt} = \\mu + \\sigma \\xi(t),\n",
    "\\end{eqnarray}\n",
    "where $\\mu = \\mu_{left}-\\mu_{right}$ and $\\xi(t)$ is Gaussian white noise of zero mean and unit variance $\\sigma^2$.\n",
    "\n",
    "The analytical solution of this stochastic differential equation is beyond the scope of this exercise; we refer to  text books on stochastic processes or e.g. https://en.wikipedia.org/wiki/Random_walk.\n",
    "\n",
    "Here we simply use the result that the distribution of $x$ at time $t$ is a normal distribution depending on $x$ at time $s$, $(s\\leq t)$.\n",
    "\\begin{eqnarray}\n",
    "x_t-x_s \\sim \\mathcal{N}(\\mu (t-s), \\sigma^2 (t-s)).\n",
    "\\end{eqnarray}\n",
    "\n",
    "In discretized time, the increment of the decision variable $\\Delta x$ after time $\\Delta t$ is\n",
    "\\begin{eqnarray}\n",
    "\\Delta x \\sim \\mathcal{N}(\\mu \\Delta t, \\sigma^2 \\Delta t).\n",
    "\\end{eqnarray}\n",
    "\n",
    "We assume that a decision is made when the decision variable hits one of the boundaries at $x=\\pm B$. \n",
    "When the desicion is made, the simulation ends.\n",
    "\n",
    "The reaction time is the time it takes the decision variable to reach one of the boundaries."
   ]
  },
  {
   "cell_type": "markdown",
   "metadata": {},
   "source": [
    "### Exercise\n",
    "\n",
    "1. Complete the provided code segments to write a function that simulates one trial of the drift-diffusion model. The function should take parameters $\\mu$, $\\sigma$, and a boundary $B$ as inputs and return the final choice, its correctness, the reaction time for that trial, and the whole trajectory of the decision variable. Note that the correctness ($x=\\pm B$) of the reaction is dependent on the sign of $\\mu$. \n",
    "2. Set $\\mu=0.001$, $\\sigma=0.1$ and $B=1$. Plot the decision variable trajectories for 100 trials in the same figure. Now make the same plot with $\\sigma=0.01$. Discuss the difference.\n",
    "3. Simulate your drift-diffusion model for 10000 trials with $\\mu=0.001, \\sigma=0.05, B=1$ and plot the reaction time distribution. Separate correct and wrong decisions. Understand and briefly describe the provided function plot_rt_distribution. Use it to plot the reaction time histogram. \n",
    "4. Now simulate your model with different initial values $x_0\\neq0$ for your decision variable. To do so, write a new function by modifying your function of Question 1 by adding the new parameter $x_0$ to it. Plot the decision variable trajectories and the reaction time histogram (i.e repeat the plots of Questions 2 and 3) for different combinations of $x_0\\in (-B,B)$ and $\\mu$. Discuss your results."
   ]
  },
  {
   "cell_type": "code",
   "execution_count": 8,
   "metadata": {
    "collapsed": true
   },
   "outputs": [],
   "source": [
    "%matplotlib inline\n",
    "import numpy as np\n",
    "import matplotlib.pyplot as plt"
   ]
  },
  {
   "cell_type": "code",
   "execution_count": null,
   "metadata": {
    "collapsed": true
   },
   "outputs": [],
   "source": [
    "mu=???\n",
    "sigma=???\n",
    "B=???\n",
    "\n",
    "dt=1. # time step size (ms)\n",
    "T_max=2500\n",
    "\n",
    "# Function that simulates one trial of the drift-diffusion model\n",
    "def sim_drift_diffusion(mu, sigma, B):\n",
    "    \"\"\"\n",
    "    Args:\n",
    "        mu (float) : drift rate of the decision variable (=mu_left - mu_right)\n",
    "        sigma (float) : variance of the decision variable\n",
    "        B (float): boundary value\n",
    "        \n",
    "    Returns:\n",
    "        choice (int) : final decision\n",
    "        correct (boolean) : whether final decision is correct or not\n",
    "        reaction_time (float) : time it took to reach a decision\n",
    "        x_plot (array) : decision variable values over the whole simulation (trajectory)\n",
    "        \n",
    "    \"\"\"\n",
    "    \n",
    "    # Initialize x\n",
    "    x = 0\n",
    "    \n",
    "    # Storage\n",
    "    x_plot = [x]\n",
    "    \n",
    "    # Loop over time\n",
    "    for t in np.arange(dt,T_max,dt):\n",
    "        \n",
    "        # Implement the increment of the decision variable.\n",
    "        # Use np.random.randn to draw x from a gaussian distribution\n",
    "        x += ???\n",
    "        \n",
    "        x_plot.append(x) # save new x\n",
    "\n",
    "        # check boundary conditions\n",
    "        if x > B:\n",
    "            reaction_time = ??? \n",
    "            choice = ???\n",
    "            break\n",
    "        if x < -B:\n",
    "            reaction_time = ???\n",
    "            choice = ???\n",
    "            break\n",
    "    \n",
    "    # If no boundary is hit before maximum time, \n",
    "    # choose according to decision variable value\n",
    "    if t == T_max-dt:\n",
    "        reaction_time = ??? # set reaction_time to T_max and:\n",
    "        choice = ??? # \"Force\" a choice depending on the sign of x\n",
    "    \n",
    "    # Determining correctness depending on sign of mu\n",
    "    if mu >= ...\n",
    "        correct = ??? # Boolean variable for trial's correctness\n",
    "    else\n",
    "        correct = ???\n",
    "    return choice, correct, reaction_time, x_plot\n",
    "\n",
    "\n",
    "# Call your function for many trials and plot the trajectories \n",
    "n_trials=???\n",
    "plt.figure()\n",
    "for i_trial in range(n_trials):\n",
    "    \n",
    "    # Plot the decision variable vs time\n",
    "    # Tip: The parameter alpha of the plot function sets the transparency of the line. \n",
    "    # Adjust it to show more trajectories on the same plot.\n",
    "    \n",
    "    \n",
    "plt.xlabel('Time (ms)') \n",
    "plt.ylabel('Decision variable')\n",
    "plt.ylim((-B,B))"
   ]
  },
  {
   "cell_type": "code",
   "execution_count": null,
   "metadata": {
    "collapsed": true
   },
   "outputs": [],
   "source": [
    "# Function that takes reaction time as input and plots a histogram\n",
    "def plot_rt_distribution(rt_correct, rt_wrong, bins=None):\n",
    "    '''\n",
    "    rt_correct/rt_wrong : array of reaction time for correct/error trials\n",
    "    bins: if given, the bins for plotting\n",
    "    '''\n",
    "    if bins is None:\n",
    "        maxrt = max((max(rt_correct),max(rt_wrong)))\n",
    "        bins = np.linspace(0,maxrt,26)\n",
    "    count1, bins_edge = np.histogram(rt_correct, bins=bins)\n",
    "    count0, bins_edge = np.histogram(rt_wrong, bins=bins)\n",
    "    n_rt = float(len(rt_wrong) + len(rt_correct))\n",
    "    \n",
    "    plt.figure()\n",
    "    plt.bar(bins_edge[:-1], count1/n_rt, np.diff(bins_edge), color='blue', edgecolor='white')\n",
    "    plt.bar(bins_edge[:-1], -count0/n_rt, np.diff(bins_edge), color='red', edgecolor='white')\n",
    "    \n",
    "    titletxt = 'Proportion correct {:0.2f}, '.format(sum(count1)/n_rt)\n",
    "    titletxt += 'Mean reaction time {:0.0f}/{:0.0f} ms'.format(np.mean(rt_correct),np.mean(rt_wrong))\n",
    "    \n",
    "    plt.ylabel('Proportion')\n",
    "    plt.xlabel('Reaction Time')\n",
    "    plt.title(titletxt)\n",
    "    plt.xlim((bins.min(),bins.max()))\n",
    "    \n",
    "\n",
    "# Loop over trials, for each trial call your function\n",
    "n_trials=???\n",
    "\n",
    "for i_trial in range(n_trials):\n",
    "    \n",
    "    # Call your function. \n",
    "    # For each trial store its reaction time and its correctness in two arrays\n",
    "\n",
    "    \n",
    "# Plot the reaction time histogram\n",
    "bins = np.linspace(0,T_max,26)\n",
    "# Separate correct and wrong trials\n",
    "rt_correct=???\n",
    "rt_wrong=???\n",
    "plot_rt_distribution(???)"
   ]
  },
  {
   "cell_type": "code",
   "execution_count": null,
   "metadata": {
    "collapsed": true
   },
   "outputs": [],
   "source": []
  }
 ],
 "metadata": {
  "anaconda-cloud": {},
  "kernelspec": {
   "display_name": "Python 2",
   "language": "python",
   "name": "python2"
  },
  "language_info": {
   "codemirror_mode": {
    "name": "ipython",
    "version": 2
   },
   "file_extension": ".py",
   "mimetype": "text/x-python",
   "name": "python",
   "nbconvert_exporter": "python",
   "pygments_lexer": "ipython2",
   "version": "2.7.13"
  }
 },
 "nbformat": 4,
 "nbformat_minor": 1
}
